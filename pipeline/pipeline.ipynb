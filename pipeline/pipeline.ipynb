{
  "cells": [
    {
      "cell_type": "code",
      "execution_count": null,
      "metadata": {
        "id": "6LSCwXH4QH1M"
      },
      "outputs": [
        {
          "ename": "ModuleNotFoundError",
          "evalue": "No module named 'cv2'",
          "output_type": "error",
          "traceback": [
            "\u001b[31m---------------------------------------------------------------------------\u001b[39m",
            "\u001b[31mModuleNotFoundError\u001b[39m                       Traceback (most recent call last)",
            "\u001b[36mCell\u001b[39m\u001b[36m \u001b[39m\u001b[32mIn[4]\u001b[39m\u001b[32m, line 2\u001b[39m\n\u001b[32m      1\u001b[39m \u001b[38;5;28;01mimport\u001b[39;00m\u001b[38;5;250m \u001b[39m\u001b[34;01mos\u001b[39;00m\n\u001b[32m----> \u001b[39m\u001b[32m2\u001b[39m \u001b[38;5;28;01mimport\u001b[39;00m\u001b[38;5;250m \u001b[39m\u001b[34;01mcv2\u001b[39;00m\n\u001b[32m      3\u001b[39m \u001b[38;5;28;01mimport\u001b[39;00m\u001b[38;5;250m \u001b[39m\u001b[34;01mnumpy\u001b[39;00m\u001b[38;5;250m \u001b[39m\u001b[38;5;28;01mas\u001b[39;00m\u001b[38;5;250m \u001b[39m\u001b[34;01mnp\u001b[39;00m\n\u001b[32m      4\u001b[39m \u001b[38;5;28;01mfrom\u001b[39;00m\u001b[38;5;250m \u001b[39m\u001b[34;01mtensorflow\u001b[39;00m\u001b[34;01m.\u001b[39;00m\u001b[34;01mkeras\u001b[39;00m\u001b[34;01m.\u001b[39;00m\u001b[34;01mmodels\u001b[39;00m\u001b[38;5;250m \u001b[39m\u001b[38;5;28;01mimport\u001b[39;00m load_model\n",
            "\u001b[31mModuleNotFoundError\u001b[39m: No module named 'cv2'"
          ]
        }
      ],
      "source": [
        "import os\n",
        "import cv2\n",
        "import numpy as np\n",
        "from tensorflow.keras.models import load_model\n",
        "from tensorflow.keras.applications.efficientnet import preprocess_input\n",
        "from ultralytics import YOLO\n",
        "import matplotlib.pyplot as plt\n",
        "\n",
        "# Paths\n",
        "CLASSIFICATION_MODEL_PATH = \"classification.keras\"\n",
        "DETECTION_MODEL_PATH = \"bboxes.pt\"\n",
        "IMAGE_FOLDER = \"./testimages\" # Include the link to the testing dataset\n",
        "\n",
        "# Load Models\n",
        "clf_model = load_model(CLASSIFICATION_MODEL_PATH)\n",
        "det_model = YOLO(DETECTION_MODEL_PATH)\n",
        "\n",
        "# Parameters\n",
        "IMG_SIZE = 512\n",
        "THRESHOLD = 0.5\n",
        "\n",
        "# Helper: preprocess single image for classification\n",
        "def preprocess_image(image_path):\n",
        "    img = cv2.imread(image_path, cv2.IMREAD_GRAYSCALE)\n",
        "    if img is None:\n",
        "        return None\n",
        "    old_size = img.shape[:2]\n",
        "    ratio = float(IMG_SIZE) / max(old_size)\n",
        "    new_size = tuple([int(x * ratio) for x in old_size])\n",
        "    img_resized = cv2.resize(img, (new_size[1], new_size[0]))\n",
        "    delta_w = IMG_SIZE - new_size[1]\n",
        "    delta_h = IMG_SIZE - new_size[0]\n",
        "    top, bottom = delta_h // 2, delta_h - delta_h // 2\n",
        "    left, right = delta_w // 2, delta_w - delta_w // 2\n",
        "    padded_img = cv2.copyMakeBorder(img_resized, top, bottom, left, right, cv2.BORDER_CONSTANT, value=0)\n",
        "    padded_img = np.repeat(np.expand_dims(padded_img, -1), 3, axis=-1)\n",
        "    padded_img = preprocess_input(padded_img.astype('float32'))\n",
        "    return np.expand_dims(padded_img, axis=0)\n",
        "\n",
        "# Inference loop\n",
        "for img_name in os.listdir(IMAGE_FOLDER):\n",
        "    img_path = os.path.join(IMAGE_FOLDER, img_name)\n",
        "    processed_img = preprocess_image(img_path)\n",
        "\n",
        "    if processed_img is None:\n",
        "        print(f\"Skipped unreadable image: {img_name}\")\n",
        "        continue\n",
        "\n",
        "    # Classify\n",
        "    prediction = clf_model.predict(processed_img)[0][0]\n",
        "    print(f\"\\n{img_name} - Tumor Probability: {prediction:.4f}\")\n",
        "\n",
        "    if prediction < THRESHOLD:\n",
        "        print(\"No tumor detected.\")\n",
        "    else:\n",
        "        print(\"Tumor detected! Running YOLOv8 detection...\")\n",
        "        det_model.predict(source=img_path, save=True, conf=0.25)\n",
        "        print(f\"Results saved in /runs/detect/predict\")\n"
      ]
    }
  ],
  "metadata": {
    "colab": {
      "provenance": []
    },
    "kernelspec": {
      "display_name": "base",
      "language": "python",
      "name": "python3"
    },
    "language_info": {
      "codemirror_mode": {
        "name": "ipython",
        "version": 3
      },
      "file_extension": ".py",
      "mimetype": "text/x-python",
      "name": "python",
      "nbconvert_exporter": "python",
      "pygments_lexer": "ipython3",
      "version": "3.12.3"
    }
  },
  "nbformat": 4,
  "nbformat_minor": 0
}
